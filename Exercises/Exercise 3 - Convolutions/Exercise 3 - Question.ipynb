{
  "nbformat": 4,
  "nbformat_minor": 0,
  "metadata": {
    "colab": {
      "name": "Exercise 3 - Question.ipynb",
      "provenance": [],
      "collapsed_sections": [],
      "toc_visible": true,
      "include_colab_link": true
    },
    "kernelspec": {
      "display_name": "Python 3",
      "name": "python3"
    }
  },
  "cells": [
    {
      "cell_type": "markdown",
      "metadata": {
        "id": "view-in-github",
        "colab_type": "text"
      },
      "source": [
        "<a href=\"https://colab.research.google.com/github/alecvinent/Tensorflow-course/blob/main/Exercises/Exercise%203%20-%20Convolutions/Exercise%203%20-%20Question.ipynb\" target=\"_parent\"><img src=\"https://colab.research.google.com/assets/colab-badge.svg\" alt=\"Open In Colab\"/></a>"
      ]
    },
    {
      "cell_type": "code",
      "metadata": {
        "id": "zX4Kg8DUTKWO"
      },
      "source": [
        "#@title Licensed under the Apache License, Version 2.0 (the \"License\");\n",
        "# you may not use this file except in compliance with the License.\n",
        "# You may obtain a copy of the License at\n",
        "#\n",
        "# https://www.apache.org/licenses/LICENSE-2.0\n",
        "#\n",
        "# Unless required by applicable law or agreed to in writing, software\n",
        "# distributed under the License is distributed on an \"AS IS\" BASIS,\n",
        "# WITHOUT WARRANTIES OR CONDITIONS OF ANY KIND, either express or implied.\n",
        "# See the License for the specific language governing permissions and\n",
        "# limitations under the License."
      ],
      "execution_count": 1,
      "outputs": []
    },
    {
      "cell_type": "markdown",
      "metadata": {
        "id": "iQjHqsmTAVLU"
      },
      "source": [
        "## Exercise 3\n",
        "In the videos you looked at how you would improve Fashion MNIST using Convolutions. For your exercise see if you can improve MNIST to 99.8% accuracy or more using only a single convolutional layer and a single MaxPooling 2D. You should stop training once the accuracy goes above this amount. It should happen in less than 20 epochs, so it's ok to hard code the number of epochs for training, but your training must end once it hits the above metric. If it doesn't, then you'll need to redesign your layers.\n",
        "\n",
        "I've started the code for you -- you need to finish it!\n",
        "\n",
        "When 99.8% accuracy has been hit, you should print out the string \"Reached 99.8% accuracy so cancelling training!\"\n"
      ]
    },
    {
      "cell_type": "code",
      "metadata": {
        "colab": {
          "base_uri": "https://localhost:8080/"
        },
        "id": "sfQRyaJWAIdg",
        "outputId": "2b63c7da-4b1d-4acb-b60d-cd1358fc6aad"
      },
      "source": [
        "import tensorflow as tf\n",
        "\n",
        "def train_mnist_conv():\n",
        "    # Please write your code only where you are indicated.\n",
        "    # please do not remove model fitting inline comments.\n",
        "\n",
        "    # YOUR CODE STARTS HERE\n",
        "    class myCallback(tf.keras.callbacks.Callback):\n",
        "        def on_epoch_end(self, epoch, logs={}):\n",
        "            print(logs)\n",
        "            if logs['accuracy'] >= 0.998:\n",
        "                print(\"\\nReached 99.8% accuracy so cancelling training!\")\n",
        "                self.model.stop_training = True\n",
        "\n",
        "    callbacks = myCallback()\n",
        "    # YOUR CODE ENDS HERE\n",
        "\n",
        "    mnist = tf.keras.datasets.mnist\n",
        "    # (training_images, training_labels), (test_images, test_labels) = mnist.load_data(path=path)\n",
        "    (training_images, training_labels), (test_images, test_labels) = mnist.load_data()\n",
        "    # YOUR CODE STARTS HERE\n",
        "    training_images = training_images.reshape(training_images.shape[0], training_images.shape[1],\n",
        "                                              training_images.shape[2], 1)\n",
        "    training_images = training_images / 255.0\n",
        "    test_images = test_images.reshape(test_images.shape[0], test_images.shape[1], test_images.shape[2], 1)\n",
        "    test_images = test_images / 255.0\n",
        "    # YOUR CODE ENDS HERE\n",
        "\n",
        "    model = tf.keras.models.Sequential([\n",
        "        # YOUR CODE STARTS HERE\n",
        "        tf.keras.layers.Conv2D(64, (3, 3), activation='relu', input_shape=(28, 28, 1)),\n",
        "        tf.keras.layers.MaxPooling2D(2, 2),\n",
        "        tf.keras.layers.Flatten(),\n",
        "        tf.keras.layers.Dense(128, activation='relu'),\n",
        "        tf.keras.layers.Dense(10, activation='softmax')\n",
        "        # YOUR CODE ENDS HERE\n",
        "    ])\n",
        "\n",
        "    model.compile(optimizer='adam', loss='sparse_categorical_crossentropy', metrics=['accuracy'])\n",
        "    # model fitting\n",
        "    history = model.fit(\n",
        "        # YOUR CODE STARTS HERE\n",
        "        training_images, training_labels, epochs=20, callbacks=[callbacks]\n",
        "        # YOUR CODE ENDS HERE\n",
        "    )\n",
        "    # model fitting\n",
        "    return history.epoch, history.history['accuracy'][-1]\n",
        "\n",
        "\n",
        "_, _ = train_mnist_conv()\n"
      ],
      "execution_count": 2,
      "outputs": [
        {
          "output_type": "stream",
          "text": [
            "Downloading data from https://storage.googleapis.com/tensorflow/tf-keras-datasets/mnist.npz\n",
            "11493376/11490434 [==============================] - 0s 0us/step\n",
            "Epoch 1/20\n",
            "1875/1875 [==============================] - 56s 30ms/step - loss: 0.1309 - accuracy: 0.9610\n",
            "{'loss': 0.13085030019283295, 'accuracy': 0.9610499739646912}\n",
            "Epoch 2/20\n",
            "1875/1875 [==============================] - 56s 30ms/step - loss: 0.0455 - accuracy: 0.9862\n",
            "{'loss': 0.04546882212162018, 'accuracy': 0.9861500263214111}\n",
            "Epoch 3/20\n",
            "1875/1875 [==============================] - 56s 30ms/step - loss: 0.0282 - accuracy: 0.9913\n",
            "{'loss': 0.028200220316648483, 'accuracy': 0.9913166761398315}\n",
            "Epoch 4/20\n",
            "1875/1875 [==============================] - 55s 30ms/step - loss: 0.0172 - accuracy: 0.9946\n",
            "{'loss': 0.017214801162481308, 'accuracy': 0.9945666790008545}\n",
            "Epoch 5/20\n",
            "1875/1875 [==============================] - 55s 29ms/step - loss: 0.0131 - accuracy: 0.9956\n",
            "{'loss': 0.013146448880434036, 'accuracy': 0.9956333041191101}\n",
            "Epoch 6/20\n",
            "1875/1875 [==============================] - 56s 30ms/step - loss: 0.0086 - accuracy: 0.9973\n",
            "{'loss': 0.008563920855522156, 'accuracy': 0.9973000288009644}\n",
            "Epoch 7/20\n",
            "1875/1875 [==============================] - 56s 30ms/step - loss: 0.0066 - accuracy: 0.9979\n",
            "{'loss': 0.006629954092204571, 'accuracy': 0.9979166388511658}\n",
            "Epoch 8/20\n",
            "1875/1875 [==============================] - 56s 30ms/step - loss: 0.0068 - accuracy: 0.9977\n",
            "{'loss': 0.006760517600923777, 'accuracy': 0.9976500272750854}\n",
            "Epoch 9/20\n",
            "1875/1875 [==============================] - 56s 30ms/step - loss: 0.0055 - accuracy: 0.9980\n",
            "{'loss': 0.00549528282135725, 'accuracy': 0.9979833364486694}\n",
            "Epoch 10/20\n",
            "1875/1875 [==============================] - 56s 30ms/step - loss: 0.0030 - accuracy: 0.9990\n",
            "{'loss': 0.0029922304674983025, 'accuracy': 0.9990333318710327}\n",
            "\n",
            "Reached 99.8% accuracy so cancelling training!\n"
          ],
          "name": "stdout"
        }
      ]
    }
  ]
}